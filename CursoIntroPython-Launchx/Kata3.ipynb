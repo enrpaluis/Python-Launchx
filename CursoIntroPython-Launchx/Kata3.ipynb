{
 "cells": [
  {
   "cell_type": "markdown",
   "metadata": {},
   "source": [
    "## Kata 3 Lógica booleana\n",
    "### Luis Enrique Palacios Nacianceno"
   ]
  },
  {
   "cell_type": "markdown",
   "metadata": {},
   "source": [
    " Define una expresión de prueba que pueda tener un valor `True` o `False`, seguido de un bloque de código con sangría que se ejecutará si se cumple la condición.  "
   ]
  },
  {
   "cell_type": "code",
   "execution_count": 7,
   "metadata": {},
   "outputs": [
    {
     "name": "stdout",
     "output_type": "stream",
     "text": [
      "A es mayor\n"
     ]
    }
   ],
   "source": [
    "a=15\n",
    "b=12\n",
    "if a > b:\n",
    "    print(\"A es mayor\")"
   ]
  },
  {
   "cell_type": "markdown",
   "metadata": {},
   "source": [
    "Para escribir un programa con una lógica condicional más compleja, puedes agregar instrucciones `else` y `elif` al bloque de código. También puedes anidar instrucciones condicionales. "
   ]
  },
  {
   "cell_type": "code",
   "execution_count": 32,
   "metadata": {},
   "outputs": [
    {
     "name": "stdout",
     "output_type": "stream",
     "text": [
      "A es mayor que b pero menor que c\n"
     ]
    }
   ],
   "source": [
    "a=253\n",
    "b=25\n",
    "c=2222\n",
    "\n",
    "if a > b:\n",
    "    if a>c:\n",
    "        print (\"A es mayor que b y mayor que c\")\n",
    "    else:\n",
    "        print(\"A es mayor que b pero menor que c\")\n",
    "elif b>a:\n",
    "    if b>c:\n",
    "        print(\"B es mayor que a y mayor que c\")\n",
    "    else:\n",
    "        print(\"B es mayor que A pero menor que C\")\n",
    "else:\n",
    "    print(\"A,B ó C son igulaes\")"
   ]
  },
  {
   "cell_type": "markdown",
   "metadata": {},
   "source": [
    " Para este ejercicio, escribirás una lógica condicional que imprima una advertencia si un asteroide se acerca a la Tierra demasiado rápido. La velocidad del asteroide varía dependiendo de lo cerca que esté del sol, y cualquier velocidad superior a 25 kilómetros por segundo (km/s) merece una advertencia.\n",
    "\n",
    "Un asteroide se acerca, y viaja a una velocidad de 49 km/s.\n"
   ]
  },
  {
   "cell_type": "code",
   "execution_count": 39,
   "metadata": {},
   "outputs": [
    {
     "name": "stdout",
     "output_type": "stream",
     "text": [
      "🚨Advertencia🚨 ¡asteroide aproximandose!\n"
     ]
    }
   ],
   "source": [
    "velocidad_asteroide=49\n",
    "if velocidad_asteroide>25:\n",
    "    print(\"🚨Advertencia🚨 ¡asteroide aproximandose!\")"
   ]
  },
  {
   "cell_type": "markdown",
   "metadata": {},
   "source": [
    "Si un asteroide entra en la atmósfera de la Tierra a una velocidad mayor o igual a 20 km/s, a veces produce un rayo de luz que se puede ver desde la Tierra. Escribe la lógica condicional que usa declaraciones `if`, `else`, y `elif` para alertar a las personas de todo el mundo que deben buscar un asteroide en el cielo. ¡Hay uno que se dirige a la tierra ahora a una velocidad de 19 km/s!"
   ]
  },
  {
   "cell_type": "code",
   "execution_count": 52,
   "metadata": {},
   "outputs": [
    {
     "name": "stdout",
     "output_type": "stream",
     "text": [
      "No es posible observar el asteroide en el cielo\n"
     ]
    }
   ],
   "source": [
    "velocidad_asteroide=19\n",
    "if velocidad_asteroide != 0:\n",
    "    if velocidad_asteroide>=20:\n",
    "        print(\"Atención,observen el asteroide en el cielo\")\n",
    "    elif velocidad_asteroide<=20:\n",
    "        print(\"No es posible observar el asteroide en el cielo\")\n",
    "else:\n",
    "    print(\"No viene nada\")"
   ]
  },
  {
   "cell_type": "markdown",
   "metadata": {},
   "source": [
    "En este ejercicio, aprenderás información más matizada sobre cuándo los asteroides representan un peligro para la Tierra, y utilizarás esa información para mejorar nuestro sistema de advertencia. Aquí está la nueva información que necesitas saber:\n",
    "\n",
    "*Los asteroides de menos de 25 metros en su dimensión más grande probablemente se quemarán a medida que entren en la atmósfera de la Tierra.\n",
    "* Si una pieza de un asteroide que es más grande que 25 metros pero más pequeña que 1000 metros golpeara la Tierra, causaría mucho daño.\n",
    "\n",
    "También discutimos en el ejercicio anterior que:\n",
    "\n",
    "* La velocidad del asteroide varía en función de lo cerca que esté del sol, y cualquier velocidad superior a 25 kilómetros por segundo (km/s) merece una advertencia.\n",
    "* Si un asteroide entra en la atmósfera de la Tierra a una velocidad mayor o igual a 20 km/s, a veces produce un rayo de luz que se puede ver desde la Tierra.\n",
    "\n",
    "Usando toda esta información, escribe un programa que emita la advertencia o información correcta a la gente de la Tierra, según la velocidad y el tamaño de un asteroide. Utiliza instrucciones `if`, `else`, y `elif`, así como los operadores `and` y `or`."
   ]
  },
  {
   "cell_type": "code",
   "execution_count": 73,
   "metadata": {},
   "outputs": [
    {
     "name": "stdout",
     "output_type": "stream",
     "text": [
      "Cuidado!! un asteroide golpeará a la tierra! y producirá un gran daño \n"
     ]
    }
   ],
   "source": [
    "velocidad_asteroide=26\n",
    "tamaño_asteroide=44\n",
    "if tamaño_asteroide >25 and tamaño_asteroide<1000:\n",
    "    if velocidad_asteroide>=25:\n",
    "        print(\"Cuidado!! un asteroide golpeará a la tierra! y producirá un gran daño \")\n",
    "    elif velocidad_asteroide>=20:\n",
    "        print(\"Un asteroide golpeará a la tierra y produce un rayo de luz en la tierra\")\n",
    "else:\n",
    "    print(\"No paso nada\")"
   ]
  }
 ],
 "metadata": {
  "interpreter": {
   "hash": "63fc60136fcd3c52ef037190321b135a2102cafbdc9052d4f0a0a5b6c5513feb"
  },
  "kernelspec": {
   "display_name": "Python 3.10.2 64-bit",
   "language": "python",
   "name": "python3"
  },
  "language_info": {
   "codemirror_mode": {
    "name": "ipython",
    "version": 3
   },
   "file_extension": ".py",
   "mimetype": "text/x-python",
   "name": "python",
   "nbconvert_exporter": "python",
   "pygments_lexer": "ipython3",
   "version": "3.10.2"
  },
  "orig_nbformat": 4
 },
 "nbformat": 4,
 "nbformat_minor": 2
}
