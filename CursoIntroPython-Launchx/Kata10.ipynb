{
 "cells": [
  {
   "cell_type": "markdown",
   "metadata": {},
   "source": [
    "### Kata 10 \n",
    "#### Luis Enrique Palacios Nacianceno\n"
   ]
  },
  {
   "cell_type": "markdown",
   "metadata": {},
   "source": [
    "Intenta crear un archivo de Python y asígnale el nombre *open.py*, con el contenido siguiente:"
   ]
  },
  {
   "cell_type": "code",
   "execution_count": 1,
   "metadata": {},
   "outputs": [
    {
     "ename": "FileNotFoundError",
     "evalue": "[Errno 2] No such file or directory: '/path/to/mars.jpg'",
     "output_type": "error",
     "traceback": [
      "\u001b[1;31m---------------------------------------------------------------------------\u001b[0m",
      "\u001b[1;31mFileNotFoundError\u001b[0m                         Traceback (most recent call last)",
      "\u001b[1;32mc:\\Users\\aerodynamic\\Downloads\\CursoIntroPython-main\\CursoIntroPython-main\\Módulo 0 - Preparación del entorno de trabajo\\KatasLuis\\Kata10.ipynb Cell 3'\u001b[0m in \u001b[0;36m<module>\u001b[1;34m\u001b[0m\n\u001b[0;32m      <a href='vscode-notebook-cell:/c%3A/Users/aerodynamic/Downloads/CursoIntroPython-main/CursoIntroPython-main/M%C3%B3dulo%200%20-%20Preparaci%C3%B3n%20del%20entorno%20de%20trabajo/KatasLuis/Kata10.ipynb#ch0000000?line=1'>2</a>\u001b[0m     \u001b[39mopen\u001b[39m(\u001b[39m\"\u001b[39m\u001b[39m/path/to/mars.jpg\u001b[39m\u001b[39m\"\u001b[39m)\n\u001b[0;32m      <a href='vscode-notebook-cell:/c%3A/Users/aerodynamic/Downloads/CursoIntroPython-main/CursoIntroPython-main/M%C3%B3dulo%200%20-%20Preparaci%C3%B3n%20del%20entorno%20de%20trabajo/KatasLuis/Kata10.ipynb#ch0000000?line=3'>4</a>\u001b[0m \u001b[39mif\u001b[39;00m \u001b[39m__name__\u001b[39m \u001b[39m==\u001b[39m \u001b[39m'\u001b[39m\u001b[39m__main__\u001b[39m\u001b[39m'\u001b[39m:\n\u001b[1;32m----> <a href='vscode-notebook-cell:/c%3A/Users/aerodynamic/Downloads/CursoIntroPython-main/CursoIntroPython-main/M%C3%B3dulo%200%20-%20Preparaci%C3%B3n%20del%20entorno%20de%20trabajo/KatasLuis/Kata10.ipynb#ch0000000?line=4'>5</a>\u001b[0m     main()\n",
      "\u001b[1;32mc:\\Users\\aerodynamic\\Downloads\\CursoIntroPython-main\\CursoIntroPython-main\\Módulo 0 - Preparación del entorno de trabajo\\KatasLuis\\Kata10.ipynb Cell 3'\u001b[0m in \u001b[0;36mmain\u001b[1;34m()\u001b[0m\n\u001b[0;32m      <a href='vscode-notebook-cell:/c%3A/Users/aerodynamic/Downloads/CursoIntroPython-main/CursoIntroPython-main/M%C3%B3dulo%200%20-%20Preparaci%C3%B3n%20del%20entorno%20de%20trabajo/KatasLuis/Kata10.ipynb#ch0000000?line=0'>1</a>\u001b[0m \u001b[39mdef\u001b[39;00m \u001b[39mmain\u001b[39m():\n\u001b[1;32m----> <a href='vscode-notebook-cell:/c%3A/Users/aerodynamic/Downloads/CursoIntroPython-main/CursoIntroPython-main/M%C3%B3dulo%200%20-%20Preparaci%C3%B3n%20del%20entorno%20de%20trabajo/KatasLuis/Kata10.ipynb#ch0000000?line=1'>2</a>\u001b[0m     \u001b[39mopen\u001b[39;49m(\u001b[39m\"\u001b[39;49m\u001b[39m/path/to/mars.jpg\u001b[39;49m\u001b[39m\"\u001b[39;49m)\n",
      "\u001b[1;31mFileNotFoundError\u001b[0m: [Errno 2] No such file or directory: '/path/to/mars.jpg'"
     ]
    }
   ],
   "source": [
    "def main():\n",
    "    open(\"/path/to/mars.jpg\")\n",
    "\n",
    "if __name__ == '__main__':\n",
    "    main()"
   ]
  },
  {
   "cell_type": "markdown",
   "metadata": {},
   "source": [
    "Try y Except de los bloques\n"
   ]
  },
  {
   "cell_type": "code",
   "execution_count": 20,
   "metadata": {},
   "outputs": [
    {
     "name": "stdout",
     "output_type": "stream",
     "text": [
      "No pudimos encontrar el archivo configure.txt\n"
     ]
    }
   ],
   "source": [
    "try:\n",
    "    open('configure.txt')\n",
    "except FileNotFoundError:\n",
    "    print('No pudimos encontrar el archivo configure.txt')"
   ]
  },
  {
   "cell_type": "markdown",
   "metadata": {},
   "source": [
    "Creamos el archivo configure.txt"
   ]
  },
  {
   "cell_type": "code",
   "execution_count": 38,
   "metadata": {},
   "outputs": [],
   "source": [
    "def main():\n",
    "    try:\n",
    "        configuration = open('config.txt')\n",
    "    except FileNotFoundError:\n",
    "        print(\"No pudimos encontrar el archivo config.txt\")\n",
    "\n",
    "\n",
    "if __name__ == '__main__':\n",
    "    main()"
   ]
  },
  {
   "cell_type": "markdown",
   "metadata": {},
   "source": [
    "Aquí ya cambiamos la terminación del archivo config de .txt a .py"
   ]
  },
  {
   "cell_type": "code",
   "execution_count": 39,
   "metadata": {},
   "outputs": [
    {
     "name": "stdout",
     "output_type": "stream",
     "text": [
      "No pudimos encontrar el archivo config.txt\n"
     ]
    }
   ],
   "source": [
    "def main():\n",
    "    try:\n",
    "        configuration = open('config.txt')\n",
    "    except FileNotFoundError:\n",
    "        print(\"No pudimos encontrar el archivo config.txt\")\n",
    "\n",
    "\n",
    "if __name__ == '__main__':\n",
    "    main()"
   ]
  },
  {
   "cell_type": "markdown",
   "metadata": {},
   "source": [
    "Creamos un directorio llamado config.txt y intentamos correrlo, marcando el siguiente error:"
   ]
  },
  {
   "cell_type": "code",
   "execution_count": 63,
   "metadata": {},
   "outputs": [
    {
     "ename": "PermissionError",
     "evalue": "[Errno 13] Permission denied: 'configure.txt'",
     "output_type": "error",
     "traceback": [
      "\u001b[1;31m---------------------------------------------------------------------------\u001b[0m",
      "\u001b[1;31mPermissionError\u001b[0m                           Traceback (most recent call last)",
      "\u001b[1;32mc:\\Users\\aerodynamic\\Downloads\\CursoIntroPython-main\\CursoIntroPython-main\\Módulo 0 - Preparación del entorno de trabajo\\KatasLuis\\Kata10.ipynb Cell 12'\u001b[0m in \u001b[0;36m<module>\u001b[1;34m\u001b[0m\n\u001b[0;32m      <a href='vscode-notebook-cell:/c%3A/Users/aerodynamic/Downloads/CursoIntroPython-main/CursoIntroPython-main/M%C3%B3dulo%200%20-%20Preparaci%C3%B3n%20del%20entorno%20de%20trabajo/KatasLuis/Kata10.ipynb#ch0000012?line=4'>5</a>\u001b[0m         \u001b[39mprint\u001b[39m(\u001b[39m\"\u001b[39m\u001b[39mNo pudimos encontrar el archivo config.txt\u001b[39m\u001b[39m\"\u001b[39m)\n\u001b[0;32m      <a href='vscode-notebook-cell:/c%3A/Users/aerodynamic/Downloads/CursoIntroPython-main/CursoIntroPython-main/M%C3%B3dulo%200%20-%20Preparaci%C3%B3n%20del%20entorno%20de%20trabajo/KatasLuis/Kata10.ipynb#ch0000012?line=6'>7</a>\u001b[0m \u001b[39mif\u001b[39;00m \u001b[39m__name__\u001b[39m \u001b[39m==\u001b[39m \u001b[39m'\u001b[39m\u001b[39m__main__\u001b[39m\u001b[39m'\u001b[39m:\n\u001b[1;32m----> <a href='vscode-notebook-cell:/c%3A/Users/aerodynamic/Downloads/CursoIntroPython-main/CursoIntroPython-main/M%C3%B3dulo%200%20-%20Preparaci%C3%B3n%20del%20entorno%20de%20trabajo/KatasLuis/Kata10.ipynb#ch0000012?line=7'>8</a>\u001b[0m     main()\n",
      "\u001b[1;32mc:\\Users\\aerodynamic\\Downloads\\CursoIntroPython-main\\CursoIntroPython-main\\Módulo 0 - Preparación del entorno de trabajo\\KatasLuis\\Kata10.ipynb Cell 12'\u001b[0m in \u001b[0;36mmain\u001b[1;34m()\u001b[0m\n\u001b[0;32m      <a href='vscode-notebook-cell:/c%3A/Users/aerodynamic/Downloads/CursoIntroPython-main/CursoIntroPython-main/M%C3%B3dulo%200%20-%20Preparaci%C3%B3n%20del%20entorno%20de%20trabajo/KatasLuis/Kata10.ipynb#ch0000012?line=0'>1</a>\u001b[0m \u001b[39mdef\u001b[39;00m \u001b[39mmain\u001b[39m():\n\u001b[0;32m      <a href='vscode-notebook-cell:/c%3A/Users/aerodynamic/Downloads/CursoIntroPython-main/CursoIntroPython-main/M%C3%B3dulo%200%20-%20Preparaci%C3%B3n%20del%20entorno%20de%20trabajo/KatasLuis/Kata10.ipynb#ch0000012?line=1'>2</a>\u001b[0m     \u001b[39mtry\u001b[39;00m:\n\u001b[1;32m----> <a href='vscode-notebook-cell:/c%3A/Users/aerodynamic/Downloads/CursoIntroPython-main/CursoIntroPython-main/M%C3%B3dulo%200%20-%20Preparaci%C3%B3n%20del%20entorno%20de%20trabajo/KatasLuis/Kata10.ipynb#ch0000012?line=2'>3</a>\u001b[0m         configuration \u001b[39m=\u001b[39m \u001b[39mopen\u001b[39;49m(\u001b[39m'\u001b[39;49m\u001b[39mconfigure.txt\u001b[39;49m\u001b[39m'\u001b[39;49m)\n\u001b[0;32m      <a href='vscode-notebook-cell:/c%3A/Users/aerodynamic/Downloads/CursoIntroPython-main/CursoIntroPython-main/M%C3%B3dulo%200%20-%20Preparaci%C3%B3n%20del%20entorno%20de%20trabajo/KatasLuis/Kata10.ipynb#ch0000012?line=3'>4</a>\u001b[0m     \u001b[39mexcept\u001b[39;00m \u001b[39mFileNotFoundError\u001b[39;00m:\n\u001b[0;32m      <a href='vscode-notebook-cell:/c%3A/Users/aerodynamic/Downloads/CursoIntroPython-main/CursoIntroPython-main/M%C3%B3dulo%200%20-%20Preparaci%C3%B3n%20del%20entorno%20de%20trabajo/KatasLuis/Kata10.ipynb#ch0000012?line=4'>5</a>\u001b[0m         \u001b[39mprint\u001b[39m(\u001b[39m\"\u001b[39m\u001b[39mNo pudimos encontrar el archivo config.txt\u001b[39m\u001b[39m\"\u001b[39m)\n",
      "\u001b[1;31mPermissionError\u001b[0m: [Errno 13] Permission denied: 'configure.txt'"
     ]
    }
   ],
   "source": [
    "def main():\n",
    "    try:\n",
    "        configuration = open('configure.txt')\n",
    "    except FileNotFoundError:\n",
    "        print(\"No pudimos encontrar el archivo config.txt\")\n",
    "\n",
    "if __name__ == '__main__':\n",
    "    main()\n"
   ]
  },
  {
   "cell_type": "markdown",
   "metadata": {},
   "source": [
    "Creamos una excepción en Permission"
   ]
  },
  {
   "cell_type": "code",
   "execution_count": 64,
   "metadata": {},
   "outputs": [
    {
     "name": "stdout",
     "output_type": "stream",
     "text": [
      "No podemos abrir el tipo de archivo solicitado\n"
     ]
    }
   ],
   "source": [
    "def main():\n",
    "    try:\n",
    "        configuration = open('configure.txt')\n",
    "    except FileNotFoundError:\n",
    "        print(\"No pudimos encontrar el archivo config.txt\")\n",
    "    except PermissionError:\n",
    "        print('No podemos abrir el tipo de archivo solicitado')\n",
    "\n",
    "if __name__ == '__main__':\n",
    "    main()"
   ]
  },
  {
   "cell_type": "code",
   "execution_count": 82,
   "metadata": {},
   "outputs": [],
   "source": [
    "def main():\n",
    "    try:\n",
    "        configuration = open('configure.txt')\n",
    "    except FileNotFoundError:\n",
    "        print(\"No pudimos encontrar el archivo config.txt\")\n",
    "    except PermissionError:\n",
    "        print('No podemos abrir el tipo de archivo solicitado')\n",
    "    except (BlockingIOError, TimeoutError):\n",
    "        print(\"No se puede realizar la lectura del archivo\")\n",
    "\n",
    "if __name__ == '__main__':\n",
    "    main()\n"
   ]
  },
  {
   "cell_type": "code",
   "execution_count": 87,
   "metadata": {},
   "outputs": [],
   "source": [
    "def water_left(astronauts, water_left, days_left):\n",
    "    daily_usage = astronauts * 11\n",
    "    total_usage = daily_usage * days_left\n",
    "    total_water_left = water_left - total_usage\n",
    "    return f\"El total de agua que queda despues de {days_left} dias {total_water_left} Litros\""
   ]
  },
  {
   "cell_type": "code",
   "execution_count": 88,
   "metadata": {},
   "outputs": [
    {
     "data": {
      "text/plain": [
       "'El total de agua que queda despues de 2 dias -10 Litros'"
      ]
     },
     "execution_count": 88,
     "metadata": {},
     "output_type": "execute_result"
    }
   ],
   "source": [
    "water_left(5, 100, 2)"
   ]
  },
  {
   "cell_type": "code",
   "execution_count": 91,
   "metadata": {},
   "outputs": [],
   "source": [
    "def water_left(astronauts, water_left, days_left):\n",
    "    daily_usage = astronauts * 11\n",
    "    total_usage = daily_usage * days_left\n",
    "    total_water_left = water_left - total_usage\n",
    "    if total_water_left < 0:\n",
    "        raise RuntimeError(f\"¡Peligro! No es suficiente agua {astronauts} astronautas {days_left} dias!\")\n",
    "    return f\"El total de agua que queda despues de  {days_left} dias {total_water_left} Litros\""
   ]
  },
  {
   "cell_type": "code",
   "execution_count": 92,
   "metadata": {},
   "outputs": [
    {
     "ename": "RuntimeError",
     "evalue": "¡Peligro! No es suficiente agua 5 astronautas 2 dias!",
     "output_type": "error",
     "traceback": [
      "\u001b[1;31m---------------------------------------------------------------------------\u001b[0m",
      "\u001b[1;31mRuntimeError\u001b[0m                              Traceback (most recent call last)",
      "\u001b[1;32mc:\\Users\\aerodynamic\\Downloads\\CursoIntroPython-main\\CursoIntroPython-main\\Módulo 0 - Preparación del entorno de trabajo\\KatasLuis\\Kata10.ipynb Cell 18'\u001b[0m in \u001b[0;36m<module>\u001b[1;34m\u001b[0m\n\u001b[1;32m----> <a href='vscode-notebook-cell:/c%3A/Users/aerodynamic/Downloads/CursoIntroPython-main/CursoIntroPython-main/M%C3%B3dulo%200%20-%20Preparaci%C3%B3n%20del%20entorno%20de%20trabajo/KatasLuis/Kata10.ipynb#ch0000019?line=0'>1</a>\u001b[0m water_left(\u001b[39m5\u001b[39;49m, \u001b[39m100\u001b[39;49m, \u001b[39m2\u001b[39;49m)\n",
      "\u001b[1;32mc:\\Users\\aerodynamic\\Downloads\\CursoIntroPython-main\\CursoIntroPython-main\\Módulo 0 - Preparación del entorno de trabajo\\KatasLuis\\Kata10.ipynb Cell 17'\u001b[0m in \u001b[0;36mwater_left\u001b[1;34m(astronauts, water_left, days_left)\u001b[0m\n\u001b[0;32m      <a href='vscode-notebook-cell:/c%3A/Users/aerodynamic/Downloads/CursoIntroPython-main/CursoIntroPython-main/M%C3%B3dulo%200%20-%20Preparaci%C3%B3n%20del%20entorno%20de%20trabajo/KatasLuis/Kata10.ipynb#ch0000018?line=3'>4</a>\u001b[0m total_water_left \u001b[39m=\u001b[39m water_left \u001b[39m-\u001b[39m total_usage\n\u001b[0;32m      <a href='vscode-notebook-cell:/c%3A/Users/aerodynamic/Downloads/CursoIntroPython-main/CursoIntroPython-main/M%C3%B3dulo%200%20-%20Preparaci%C3%B3n%20del%20entorno%20de%20trabajo/KatasLuis/Kata10.ipynb#ch0000018?line=4'>5</a>\u001b[0m \u001b[39mif\u001b[39;00m total_water_left \u001b[39m<\u001b[39m \u001b[39m0\u001b[39m:\n\u001b[1;32m----> <a href='vscode-notebook-cell:/c%3A/Users/aerodynamic/Downloads/CursoIntroPython-main/CursoIntroPython-main/M%C3%B3dulo%200%20-%20Preparaci%C3%B3n%20del%20entorno%20de%20trabajo/KatasLuis/Kata10.ipynb#ch0000018?line=5'>6</a>\u001b[0m     \u001b[39mraise\u001b[39;00m \u001b[39mRuntimeError\u001b[39;00m(\u001b[39mf\u001b[39m\u001b[39m\"\u001b[39m\u001b[39m¡Peligro! No es suficiente agua \u001b[39m\u001b[39m{\u001b[39;00mastronauts\u001b[39m}\u001b[39;00m\u001b[39m astronautas \u001b[39m\u001b[39m{\u001b[39;00mdays_left\u001b[39m}\u001b[39;00m\u001b[39m dias!\u001b[39m\u001b[39m\"\u001b[39m)\n\u001b[0;32m      <a href='vscode-notebook-cell:/c%3A/Users/aerodynamic/Downloads/CursoIntroPython-main/CursoIntroPython-main/M%C3%B3dulo%200%20-%20Preparaci%C3%B3n%20del%20entorno%20de%20trabajo/KatasLuis/Kata10.ipynb#ch0000018?line=6'>7</a>\u001b[0m \u001b[39mreturn\u001b[39;00m \u001b[39mf\u001b[39m\u001b[39m\"\u001b[39m\u001b[39mEl total de agua que queda despues de  \u001b[39m\u001b[39m{\u001b[39;00mdays_left\u001b[39m}\u001b[39;00m\u001b[39m dias \u001b[39m\u001b[39m{\u001b[39;00mtotal_water_left\u001b[39m}\u001b[39;00m\u001b[39m Litros\u001b[39m\u001b[39m\"\u001b[39m\n",
      "\u001b[1;31mRuntimeError\u001b[0m: ¡Peligro! No es suficiente agua 5 astronautas 2 dias!"
     ]
    }
   ],
   "source": [
    "water_left(5, 100, 2)"
   ]
  },
  {
   "cell_type": "code",
   "execution_count": 93,
   "metadata": {},
   "outputs": [
    {
     "ename": "NameError",
     "evalue": "name 'alert_navigation_system' is not defined",
     "output_type": "error",
     "traceback": [
      "\u001b[1;31m---------------------------------------------------------------------------\u001b[0m",
      "\u001b[1;31mRuntimeError\u001b[0m                              Traceback (most recent call last)",
      "\u001b[1;32mc:\\Users\\aerodynamic\\Downloads\\CursoIntroPython-main\\CursoIntroPython-main\\Módulo 0 - Preparación del entorno de trabajo\\KatasLuis\\Kata10.ipynb Cell 19'\u001b[0m in \u001b[0;36m<module>\u001b[1;34m\u001b[0m\n\u001b[0;32m      <a href='vscode-notebook-cell:/c%3A/Users/aerodynamic/Downloads/CursoIntroPython-main/CursoIntroPython-main/M%C3%B3dulo%200%20-%20Preparaci%C3%B3n%20del%20entorno%20de%20trabajo/KatasLuis/Kata10.ipynb#ch0000020?line=0'>1</a>\u001b[0m \u001b[39mtry\u001b[39;00m:\n\u001b[1;32m----> <a href='vscode-notebook-cell:/c%3A/Users/aerodynamic/Downloads/CursoIntroPython-main/CursoIntroPython-main/M%C3%B3dulo%200%20-%20Preparaci%C3%B3n%20del%20entorno%20de%20trabajo/KatasLuis/Kata10.ipynb#ch0000020?line=1'>2</a>\u001b[0m     water_left(\u001b[39m5\u001b[39;49m, \u001b[39m100\u001b[39;49m, \u001b[39m2\u001b[39;49m)\n\u001b[0;32m      <a href='vscode-notebook-cell:/c%3A/Users/aerodynamic/Downloads/CursoIntroPython-main/CursoIntroPython-main/M%C3%B3dulo%200%20-%20Preparaci%C3%B3n%20del%20entorno%20de%20trabajo/KatasLuis/Kata10.ipynb#ch0000020?line=2'>3</a>\u001b[0m \u001b[39mexcept\u001b[39;00m \u001b[39mRuntimeError\u001b[39;00m \u001b[39mas\u001b[39;00m err:\n",
      "\u001b[1;32mc:\\Users\\aerodynamic\\Downloads\\CursoIntroPython-main\\CursoIntroPython-main\\Módulo 0 - Preparación del entorno de trabajo\\KatasLuis\\Kata10.ipynb Cell 17'\u001b[0m in \u001b[0;36mwater_left\u001b[1;34m(astronauts, water_left, days_left)\u001b[0m\n\u001b[0;32m      <a href='vscode-notebook-cell:/c%3A/Users/aerodynamic/Downloads/CursoIntroPython-main/CursoIntroPython-main/M%C3%B3dulo%200%20-%20Preparaci%C3%B3n%20del%20entorno%20de%20trabajo/KatasLuis/Kata10.ipynb#ch0000018?line=4'>5</a>\u001b[0m \u001b[39mif\u001b[39;00m total_water_left \u001b[39m<\u001b[39m \u001b[39m0\u001b[39m:\n\u001b[1;32m----> <a href='vscode-notebook-cell:/c%3A/Users/aerodynamic/Downloads/CursoIntroPython-main/CursoIntroPython-main/M%C3%B3dulo%200%20-%20Preparaci%C3%B3n%20del%20entorno%20de%20trabajo/KatasLuis/Kata10.ipynb#ch0000018?line=5'>6</a>\u001b[0m     \u001b[39mraise\u001b[39;00m \u001b[39mRuntimeError\u001b[39;00m(\u001b[39mf\u001b[39m\u001b[39m\"\u001b[39m\u001b[39m¡Peligro! No es suficiente agua \u001b[39m\u001b[39m{\u001b[39;00mastronauts\u001b[39m}\u001b[39;00m\u001b[39m astronautas \u001b[39m\u001b[39m{\u001b[39;00mdays_left\u001b[39m}\u001b[39;00m\u001b[39m dias!\u001b[39m\u001b[39m\"\u001b[39m)\n\u001b[0;32m      <a href='vscode-notebook-cell:/c%3A/Users/aerodynamic/Downloads/CursoIntroPython-main/CursoIntroPython-main/M%C3%B3dulo%200%20-%20Preparaci%C3%B3n%20del%20entorno%20de%20trabajo/KatasLuis/Kata10.ipynb#ch0000018?line=6'>7</a>\u001b[0m \u001b[39mreturn\u001b[39;00m \u001b[39mf\u001b[39m\u001b[39m\"\u001b[39m\u001b[39mEl total de agua que queda despues de  \u001b[39m\u001b[39m{\u001b[39;00mdays_left\u001b[39m}\u001b[39;00m\u001b[39m dias \u001b[39m\u001b[39m{\u001b[39;00mtotal_water_left\u001b[39m}\u001b[39;00m\u001b[39m Litros\u001b[39m\u001b[39m\"\u001b[39m\n",
      "\u001b[1;31mRuntimeError\u001b[0m: ¡Peligro! No es suficiente agua 5 astronautas 2 dias!",
      "\nDuring handling of the above exception, another exception occurred:\n",
      "\u001b[1;31mNameError\u001b[0m                                 Traceback (most recent call last)",
      "\u001b[1;32mc:\\Users\\aerodynamic\\Downloads\\CursoIntroPython-main\\CursoIntroPython-main\\Módulo 0 - Preparación del entorno de trabajo\\KatasLuis\\Kata10.ipynb Cell 19'\u001b[0m in \u001b[0;36m<module>\u001b[1;34m\u001b[0m\n\u001b[0;32m      <a href='vscode-notebook-cell:/c%3A/Users/aerodynamic/Downloads/CursoIntroPython-main/CursoIntroPython-main/M%C3%B3dulo%200%20-%20Preparaci%C3%B3n%20del%20entorno%20de%20trabajo/KatasLuis/Kata10.ipynb#ch0000020?line=1'>2</a>\u001b[0m     water_left(\u001b[39m5\u001b[39m, \u001b[39m100\u001b[39m, \u001b[39m2\u001b[39m)\n\u001b[0;32m      <a href='vscode-notebook-cell:/c%3A/Users/aerodynamic/Downloads/CursoIntroPython-main/CursoIntroPython-main/M%C3%B3dulo%200%20-%20Preparaci%C3%B3n%20del%20entorno%20de%20trabajo/KatasLuis/Kata10.ipynb#ch0000020?line=2'>3</a>\u001b[0m \u001b[39mexcept\u001b[39;00m \u001b[39mRuntimeError\u001b[39;00m \u001b[39mas\u001b[39;00m err:\n\u001b[1;32m----> <a href='vscode-notebook-cell:/c%3A/Users/aerodynamic/Downloads/CursoIntroPython-main/CursoIntroPython-main/M%C3%B3dulo%200%20-%20Preparaci%C3%B3n%20del%20entorno%20de%20trabajo/KatasLuis/Kata10.ipynb#ch0000020?line=3'>4</a>\u001b[0m     alert_navigation_system(err)\n",
      "\u001b[1;31mNameError\u001b[0m: name 'alert_navigation_system' is not defined"
     ]
    }
   ],
   "source": [
    "try:\n",
    "    water_left(5, 100, 2)\n",
    "except RuntimeError as err:\n",
    "    alert_navigation_system(err)"
   ]
  },
  {
   "cell_type": "code",
   "execution_count": 94,
   "metadata": {},
   "outputs": [],
   "source": [
    "def water_left(astronauts, water_left, days_left):\n",
    "    for argument in [astronauts, water_left, days_left]:\n",
    "        try:\n",
    "            # If argument is an int, the following operation will work\n",
    "            argument / 10\n",
    "        except TypeError:\n",
    "            # TypError will be raised only if it isn't the right type \n",
    "            # Raise the same exception but with a better error message\n",
    "            raise TypeError(f\"All arguments must be of type int, but received: '{argument}'\")\n",
    "    daily_usage = astronauts * 11\n",
    "    total_usage = daily_usage * days_left\n",
    "    total_water_left = water_left - total_usage\n",
    "    if total_water_left < 0:\n",
    "        raise RuntimeError(f\"There is not enough water for {astronauts} astronauts after {days_left} days!\")\n",
    "    return f\"Total water left after {days_left} days is: {total_water_left} liters\""
   ]
  }
 ],
 "metadata": {
  "interpreter": {
   "hash": "63fc60136fcd3c52ef037190321b135a2102cafbdc9052d4f0a0a5b6c5513feb"
  },
  "kernelspec": {
   "display_name": "Python 3.10.2 64-bit",
   "language": "python",
   "name": "python3"
  },
  "language_info": {
   "codemirror_mode": {
    "name": "ipython",
    "version": 3
   },
   "file_extension": ".py",
   "mimetype": "text/x-python",
   "name": "python",
   "nbconvert_exporter": "python",
   "pygments_lexer": "ipython3",
   "version": "3.10.2"
  },
  "orig_nbformat": 4
 },
 "nbformat": 4,
 "nbformat_minor": 2
}
