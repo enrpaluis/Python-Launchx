{
 "cells": [
  {
   "cell_type": "markdown",
   "metadata": {},
   "source": [
    "## Kata 9 Funciones\n",
    "### Luis Enrique Palacios Nacianceno"
   ]
  },
  {
   "cell_type": "markdown",
   "metadata": {},
   "source": [
    "### Ejercicio 1: Trabajar con argumentos en funciones\n",
    "\n",
    "Los argumentos requeridos en las funciones se utilizan cuando las funciones necesitan que esos argumentos funcionen correctamente. En este ejercicio, construirás un informe de combustible que requiere información de varias ubicaciones de combustible en todo el cohete.\n",
    "\n",
    "Comienza por crear una función que necesite tres lecturas de combustible y devuelva un informe:"
   ]
  },
  {
   "cell_type": "code",
   "execution_count": 8,
   "metadata": {},
   "outputs": [
    {
     "name": "stdout",
     "output_type": "stream",
     "text": [
      "\n",
      "    Fuel Report\n",
      "    ----------------------------\n",
      "    Average tank 76.33333333333333L\n",
      "    Solid tank 33L\n",
      "    Liquid tank 55L\n",
      "\n",
      "    ----------------------------\n",
      "    Average = 76.33333333333333\n",
      "    \n",
      "    \n"
     ]
    }
   ],
   "source": [
    "def combustible(maintank,solidtank,liquidtank):\n",
    "    average=maintank+solidtank+liquidtank/3\n",
    "    return f\"\"\"\n",
    "    Fuel Report\n",
    "    ----------------------------\n",
    "    Main tank {maintank}L\n",
    "    Solid tank {solidtank}L\n",
    "    Liquid tank {liquidtank}L\n",
    "\n",
    "    ----------------------------\n",
    "    Average = {average}\n",
    "    \n",
    "    \"\"\"\n",
    "\n",
    "print(combustible(25,33,55))"
   ]
  },
  {
   "cell_type": "markdown",
   "metadata": {},
   "source": [
    "En lugar de simplemente crear el informe, la función también está calculando el promedio. Mejora la legibilidad extrayendo el cálculo promedio de la función en una nueva función para que el promedio se pueda hacer de forma independiente:"
   ]
  },
  {
   "cell_type": "code",
   "execution_count": 7,
   "metadata": {},
   "outputs": [
    {
     "name": "stdout",
     "output_type": "stream",
     "text": [
      "44\n"
     ]
    }
   ],
   "source": [
    "def average_function (values):\n",
    "    total=sum(values)\n",
    "    items=len(values)\n",
    "    return round(total/items)\n",
    "\n",
    "print(average_function([12,241,12,3,13,21,5]))"
   ]
  },
  {
   "cell_type": "markdown",
   "metadata": {},
   "source": [
    "Ahora actualiza la función de informes para llamando a la nueva función del promedio:\n"
   ]
  },
  {
   "cell_type": "code",
   "execution_count": 17,
   "metadata": {},
   "outputs": [
    {
     "name": "stdout",
     "output_type": "stream",
     "text": [
      "\n",
      "    Fuel Report\n",
      "    ----------------------------\n",
      "    Main tank 25L\n",
      "    Solid tank 33L\n",
      "    Liquid tank 55L\n",
      "\n",
      "    ----------------------------\n",
      "    Average : 38\n",
      "    \n"
     ]
    }
   ],
   "source": [
    "def combustible(maintank,solidtank,liquidtank):\n",
    "    return f\"\"\"\n",
    "    Fuel Report\n",
    "    ----------------------------\n",
    "    Main tank {maintank}L\n",
    "    Solid tank {solidtank}L\n",
    "    Liquid tank {liquidtank}L\n",
    "\n",
    "    ----------------------------\n",
    "    Average : {average_function([maintank,solidtank,liquidtank])}\n",
    "    \"\"\"\n",
    "print(combustible(25,33,55))"
   ]
  },
  {
   "cell_type": "markdown",
   "metadata": {},
   "source": [
    "## Ejercicio 2: Trabajo con argumentos de palabra clave\n",
    "### Ejercicio : Trabajar con argumentos de palabras clave en funciones\n",
    "En este ejercicio, construirás un informe de cohete que requiere varias piezas de información, como el tiempo hasta el destino, el combustible a la izquierda y el nombre del destino. Comienza por crear una función que creará un informe preciso de la misión:"
   ]
  },
  {
   "cell_type": "code",
   "execution_count": 45,
   "metadata": {},
   "outputs": [],
   "source": [
    "def report (hora_prelanz,tiempo,destino,maintank,solidtank,liquidtank):\n",
    "    return f\"\"\"\n",
    "    🚀Reporte del cohete🚀\n",
    "    -------------------------\n",
    "    Hora prelanzamiento: {hora_prelanz}\n",
    "    Tiempo de viaje: {tiempo} horas\n",
    "    Main tank {maintank}L\n",
    "    Solid tank {solidtank}L\n",
    "    Liquid tank {liquidtank}L\n",
    "    Average {average_function([maintank,solidtank,liquidtank])}\n",
    "    Destino: {destino}\n",
    "    Buen viaje tripulación! 🌠🌀\n",
    "    \"\"\""
   ]
  },
  {
   "cell_type": "code",
   "execution_count": 44,
   "metadata": {},
   "outputs": [
    {
     "name": "stdout",
     "output_type": "stream",
     "text": [
      "\n",
      "    🧭Reporte del cohete🧭\n",
      "    -------------------------\n",
      "    Hora prelanzamiento: 10\n",
      "    Tiempo de viaje: 35 horas\n",
      "    Main tank 20L\n",
      "    Solid tank 15L\n",
      "    Liquid tank 10L\n",
      "    Average 15\n",
      "    Destino: Marte\n",
      "    Buen viaje tripulación! 🌠🌀🚀\n",
      "    \n"
     ]
    }
   ],
   "source": [
    "print(report(10,35,'Marte',20,15,10))"
   ]
  },
  {
   "cell_type": "markdown",
   "metadata": {},
   "source": [
    "La función es problemática porque no se puede adaptar para minutos adicionales o tanques adicionales de combustible. Hazlo más flexible permitiendo cualquier número de pasos basados en el tiempo y cualquier número de tanques. En lugar de usar `*args` y `**kwargs`, aprovecha el hecho de que puedes usar cualquier nombre que desees. Asegurate que la función sea más legible mediante el uso de nombres de variables que están asociados con las entradas, como `*minutes` y `**fuel_reservoirs`:"
   ]
  },
  {
   "cell_type": "code",
   "execution_count": 27,
   "metadata": {},
   "outputs": [],
   "source": [
    "def report (destino,hora_prelanz,*tiempo,**tanks):\n",
    "     f\"\"\"\n",
    "    🚀Reporte del cohete🚀\n",
    "    -------------------------\n",
    "    Hora prelanzamiento: {hora_prelanz}\n",
    "    Tiempo de viaje: {sum(tiempo)} horas\n",
    "    Tanque de combustible : {sum(tanks.values())}\n",
    "    Destino: {destino}\n",
    "    Buen viaje tripulación! 🌠🌀\n",
    "    \"\"\""
   ]
  },
  {
   "cell_type": "code",
   "execution_count": 29,
   "metadata": {},
   "outputs": [
    {
     "name": "stdout",
     "output_type": "stream",
     "text": [
      "\n",
      "    🚀Reporte del cohete🚀\n",
      "    -------------------------\n",
      "    Hora prelanzamiento: 10\n",
      "    Tiempo de viaje: 124 horas\n",
      "    Tanque de combustible : 7800\n",
      "    Destino: Marte\n",
      "    Buen viaje tripulación! 🌠🌀\n",
      "    \n"
     ]
    }
   ],
   "source": [
    "print(report('Marte',10,25,23,51,25,maintank=2200,soildtank=2300,liquidtank=3300))"
   ]
  },
  {
   "cell_type": "markdown",
   "metadata": {},
   "source": [
    "Debido a que el combustible que queda en los tanques es específico de cada tanque, actualiza la función para usar el nombre de cada tanque en el informe:"
   ]
  },
  {
   "cell_type": "code",
   "execution_count": 50,
   "metadata": {},
   "outputs": [
    {
     "name": "stdout",
     "output_type": "stream",
     "text": [
      "\n",
      "    🚀Reporte del cohete🚀\n",
      "    -------------------------\n",
      "    Hora prelanzamiento: 10\n",
      "    Tiempo de viaje: 124 horas\n",
      "    Tanque de combustible : 7800\n",
      "    Destino: Marte\n",
      "    Buen viaje tripulación! 🌠🌀\n",
      "    El tanque:maintank, contiene actualmente: 2200\n",
      " El tanque:soildtank, contiene actualmente: 2300\n",
      " El tanque:liquidtank, contiene actualmente: 3300\n",
      " \n"
     ]
    }
   ],
   "source": [
    "def report (destino,hora_prelanz,*tiempo,**tanks):\n",
    "    reporte_completo=f\"\"\"\n",
    "    🚀Reporte del cohete🚀\n",
    "    -------------------------\n",
    "    Hora prelanzamiento: {hora_prelanz}\n",
    "    Tiempo de viaje: {sum(tiempo)} horas\n",
    "    Tanque de combustible : {sum(tanks.values())}\n",
    "    Destino: {destino}\n",
    "    Buen viaje tripulación! 🌠🌀\n",
    "    \"\"\"\n",
    "    for tank_tipo,litros in tanks.items():\n",
    "        reporte_completo += f'El tanque:{tank_tipo}, contiene actualmente: {litros}\\n '\n",
    "    return reporte_completo\n",
    "\n",
    "print(report('Marte',10,25,23,51,25,maintank=2200,soildtank=2300,liquidtank=3300))"
   ]
  },
  {
   "cell_type": "code",
   "execution_count": null,
   "metadata": {},
   "outputs": [],
   "source": []
  }
 ],
 "metadata": {
  "interpreter": {
   "hash": "63fc60136fcd3c52ef037190321b135a2102cafbdc9052d4f0a0a5b6c5513feb"
  },
  "kernelspec": {
   "display_name": "Python 3.10.2 64-bit",
   "language": "python",
   "name": "python3"
  },
  "language_info": {
   "codemirror_mode": {
    "name": "ipython",
    "version": 3
   },
   "file_extension": ".py",
   "mimetype": "text/x-python",
   "name": "python",
   "nbconvert_exporter": "python",
   "pygments_lexer": "ipython3",
   "version": "3.10.2"
  },
  "orig_nbformat": 4
 },
 "nbformat": 4,
 "nbformat_minor": 2
}
