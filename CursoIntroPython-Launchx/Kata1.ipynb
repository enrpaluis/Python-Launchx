{
 "cells": [
  {
   "cell_type": "markdown",
   "metadata": {},
   "source": [
    "## Kata 1: Fecha actual y conversor\n",
    "### Luis Enrique Palacios Nacianceno"
   ]
  },
  {
   "cell_type": "markdown",
   "metadata": {},
   "source": [
    "Creación de un código que nos muestre la fecha actual"
   ]
  },
  {
   "cell_type": "code",
   "execution_count": 11,
   "metadata": {},
   "outputs": [
    {
     "name": "stdout",
     "output_type": "stream",
     "text": [
      "La fecha de hoy es: 2022-02-15\n"
     ]
    }
   ],
   "source": [
    "#Creación de la fecha actual\n",
    "from datetime import date #importamos la biblioteca\n",
    "fecha=date.today()#lo almacenamos en una variable\n",
    "print(\"La fecha de hoy es: \"+str(fecha))#convertimos la fecha en str para concatenarla y se imprime"
   ]
  },
  {
   "cell_type": "markdown",
   "metadata": {},
   "source": [
    "Creación de un código que nos muestre un conversor de unidades de parsecs a años luz"
   ]
  },
  {
   "cell_type": "code",
   "execution_count": 23,
   "metadata": {},
   "outputs": [
    {
     "name": "stdout",
     "output_type": "stream",
     "text": [
      "11 parsec, is : 35.877159999999996 lightyears\n"
     ]
    }
   ],
   "source": [
    "#Definimos el valor de las unidades para la posterior conversión\n",
    "parsec=11\n",
    "lightyears=parsec*3.26156 #Cada parsec es equivalente a 3.26156 necesario para la conversion\n",
    "\n",
    "print(str(parsec)+\" parsec, is : \"+str(lightyears)+\" lightyears\")#Convertimos el valor en strings para concatenarlos"
   ]
  }
 ],
 "metadata": {
  "interpreter": {
   "hash": "63fc60136fcd3c52ef037190321b135a2102cafbdc9052d4f0a0a5b6c5513feb"
  },
  "kernelspec": {
   "display_name": "Python 3.10.2 64-bit",
   "language": "python",
   "name": "python3"
  },
  "language_info": {
   "codemirror_mode": {
    "name": "ipython",
    "version": 3
   },
   "file_extension": ".py",
   "mimetype": "text/x-python",
   "name": "python",
   "nbconvert_exporter": "python",
   "pygments_lexer": "ipython3",
   "version": "3.10.2"
  },
  "orig_nbformat": 4
 },
 "nbformat": 4,
 "nbformat_minor": 2
}
