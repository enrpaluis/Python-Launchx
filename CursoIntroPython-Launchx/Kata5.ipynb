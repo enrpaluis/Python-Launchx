{
 "cells": [
  {
   "cell_type": "markdown",
   "metadata": {},
   "source": [
    "## Kata 5 Operaciones Matemáticas\n",
    "### Luis Enrique Palacios Nacianceno"
   ]
  },
  {
   "cell_type": "markdown",
   "metadata": {},
   "source": [
    "### Operadores aritméticos en Python\n",
    "Python proporciona operadores aritméticos comunes para que puedas realizar operaciones matemáticas en tu código. Estos incluyen las cuatro operaciones principales de suma, resta, multiplicación y división.\n",
    "\n",
    "Exploremos cómo podemos crear un programa que pueda calcular la distancia entre dos planetas.  Comenzaremos usando dos distancias de planetas: Tierra (149.597.870 km) y Júpiter (778.547.200 km)."
   ]
  },
  {
   "cell_type": "code",
   "execution_count": 7,
   "metadata": {},
   "outputs": [
    {
     "name": "stdout",
     "output_type": "stream",
     "text": [
      "La distancia entre Jupiter y Tierra es de:  628949330\n",
      "La distancia entre los planetas en millas es de :  390577533.93\n"
     ]
    }
   ],
   "source": [
    "#Definimos las variables\n",
    "distancia_tierra=149597870 #km\n",
    "distancia_jupiter=778547200 #km\n",
    "\n",
    "distancias=distancia_jupiter-distancia_tierra\n",
    "print(\"La distancia entre Jupiter y Tierra es de: \",distancias)\n",
    "\n",
    "distancias_millas=distancias*0.621\n",
    "print(\"La distancia entre los planetas en millas es de : \", distancias_millas)\n"
   ]
  },
  {
   "cell_type": "markdown",
   "metadata": {},
   "source": [
    "## Ejercicio 2: convierte cadenas en números y usa valores absolutos\n",
    "\n",
    "### Crear una aplicación para trabajar con números y entrada de usuario\n",
    "Con frecuencia, deberás convertir los valores de cadena en números para realizar correctamente diferentes operaciones o determinar el valor absoluto de un número.\n",
    "\n",
    "Para crear nuestra aplicación, queremos leer la distancia del sol para dos planetas, y luego mostrar la distancia entre los planetas. Haremos esto usando `input` para leer los valores, `int` para convertir a entero y luego `abs` para convertir el resultado en su valor absoluto."
   ]
  },
  {
   "cell_type": "code",
   "execution_count": 17,
   "metadata": {},
   "outputs": [
    {
     "name": "stdout",
     "output_type": "stream",
     "text": [
      "La distancia del planeta 1 es de 1200 \n",
      "La distancia del planeta 2 es de 23\n",
      "La distancia entre los planetas es de  1177  en km\n",
      "La distancia entre los planetas es de  730.917  en millas\n"
     ]
    }
   ],
   "source": [
    "planeta_1=int(input(\"Favor de añadir la distancia en km del primer planeta con respecto al sol: \"))\n",
    "planeta_2=int(input(\"Favor de añadir la distancia en km del segundo planeta con respecto al sol: \"))\n",
    "\n",
    "distancia_entre_panetas=planeta_2-planeta_1\n",
    "\n",
    "print(\"La distancia del planeta 1 es de\", planeta_1,\"\\nLa distancia del planeta 2 es de\",planeta_2)\n",
    "\n",
    "print(\"La distancia entre los planetas es de \", abs(distancia_entre_panetas),\" en km\")\n",
    "\n",
    "print(\"La distancia entre los planetas es de \", abs(distancia_entre_panetas*0.621),\" en millas\")"
   ]
  },
  {
   "cell_type": "markdown",
   "metadata": {},
   "source": [
    "### Prueba tu aplicación\n",
    "Para probar el proyecto, ejecuta tu notebook. En la parte superior de vscode surgirá un cuadro de diálogo para que proporciones las distancias. Puede utilizar los datos de la tabla siguiente:\n",
    "\n",
    "| Planeta  | Distancia al sol |\n",
    "| ------- | ----------------- |\n",
    "| Mercurio | 57900000          |\n",
    "| Venus   | 108200000         |\n",
    "| Tierra   | 149600000         |\n",
    "| Marte    | 227900000         |\n",
    "| Júpiter | 778600000         |\n",
    "| Saturno  | 1433500000        |\n",
    "| Urano  | 2872500000        |\n",
    "| Neptuno | 4495100000        |"
   ]
  },
  {
   "cell_type": "code",
   "execution_count": 27,
   "metadata": {},
   "outputs": [
    {
     "name": "stdout",
     "output_type": "stream",
     "text": [
      "\n",
      "\n",
      "La distancia entre Urano y el sol es de 2872500000\n",
      "La distancia entre Neptuno y el sol es de 4495100000\n",
      "\n",
      "La distancia entre el planeta Neptuno y el planeta Urano es de : 1622600000 km\n",
      "La distancia entre planetas en millas es de : 1007634600.0 millas\n",
      "\n"
     ]
    }
   ],
   "source": [
    "nombre1=str(input(\"Cual es el nombre del primer planeta 🌌 ?: \"))\n",
    "nombre2=str(input(\"Cual es el nombre del segundo planeta 🌕 ?: \"))\n",
    "planeta_1=int(input(\"Favor de añadir la distancia en km del planeta \" + nombre1 +\" con respecto al sol: \"))\n",
    "planeta_2=int(input(\"Favor de añadir la distancia en km del planeta \" + nombre2 + \" con respecto al sol: \"))\n",
    "\n",
    "distancia_entre_planetas=planeta_2-planeta_1\n",
    "distancia_entre_millas=distancia_entre_planetas*0.621\n",
    "template=f\"\"\"\n",
    "\n",
    "La distancia entre {nombre1} y el sol es de {planeta_1}\n",
    "La distancia entre {nombre2} y el sol es de {planeta_2}\n",
    "\n",
    "La distancia entre el planeta {nombre2} y el planeta {nombre1} es de : {distancia_entre_planetas} km\n",
    "La distancia entre planetas en millas es de : {distancia_entre_millas} millas\n",
    "\"\"\"\n",
    "print(template.format(nombre1=nombre1,nombre2=nombre2,planeta_1=planeta_1,planeta_2=planeta_2,\n",
    "distancia_entre_planetas=abs(distancia_entre_planetas), distancia_entre_millas=abs(distancia_entre_millas)))"
   ]
  }
 ],
 "metadata": {
  "interpreter": {
   "hash": "63fc60136fcd3c52ef037190321b135a2102cafbdc9052d4f0a0a5b6c5513feb"
  },
  "kernelspec": {
   "display_name": "Python 3.10.2 64-bit",
   "language": "python",
   "name": "python3"
  },
  "language_info": {
   "codemirror_mode": {
    "name": "ipython",
    "version": 3
   },
   "file_extension": ".py",
   "mimetype": "text/x-python",
   "name": "python",
   "nbconvert_exporter": "python",
   "pygments_lexer": "ipython3",
   "version": "3.10.2"
  },
  "orig_nbformat": 4
 },
 "nbformat": 4,
 "nbformat_minor": 2
}
